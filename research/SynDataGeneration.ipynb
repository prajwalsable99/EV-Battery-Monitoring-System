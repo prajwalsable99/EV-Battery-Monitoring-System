{
 "cells": [
  {
   "cell_type": "code",
   "execution_count": 11,
   "id": "720706e8-5ee7-4702-95d9-ec9012ea9732",
   "metadata": {},
   "outputs": [],
   "source": [
    "import pandas as pd\n",
    "import numpy as np\n",
    "\n",
    "# Set random seed for reproducibility\n",
    "np.random.seed(42)\n",
    "\n",
    "# Number of samples\n",
    "n = 1000\n",
    "\n",
    "# Battery status: 0 = Good, 1 = Mid, 2 = Risk\n",
    "battery_status = np.random.choice([0, 1, 2], size=n, p=[0.35, 0.35, 0.3])\n",
    "\n",
    "# Simulate features based on battery status\n",
    "soc = np.where(battery_status == 0, np.random.uniform(70, 100, size=n),  # Good\n",
    "               np.where(battery_status == 1, np.random.uniform(40, 70, size=n),  # Mid\n",
    "                        np.random.uniform(10, 40, size=n)))  # Risk\n",
    "\n",
    "cycle_count = np.where(battery_status == 0, np.random.randint(100, 500, size=n),  # Good\n",
    "                       np.where(battery_status == 1, np.random.randint(500, 1000, size=n),  # Mid\n",
    "                                np.random.randint(1000, 1500, size=n)))  # Risk\n",
    "\n",
    "temperature = np.where(battery_status == 0, np.random.uniform(15, 30, size=n),  # Good\n",
    "                       np.where(battery_status == 1, np.random.uniform(30, 40, size=n),  # Mid\n",
    "                                np.random.uniform(40, 60, size=n)))  # Risk\n",
    "\n",
    "voltage = np.where(battery_status == 0, np.random.uniform(3.5, 4.2, size=n),  # Good\n",
    "                   np.where(battery_status == 1, np.random.uniform(3.2, 3.5, size=n),  # Mid\n",
    "                            np.random.uniform(2.8, 3.2, size=n)))  # Risk\n",
    "\n",
    "current = np.where(battery_status == 0, np.random.uniform(1, 10, size=n),  # Good\n",
    "                   np.where(battery_status == 1, np.random.uniform(10, 20, size=n),  # Mid\n",
    "                            np.random.uniform(20, 30, size=n)))  # Risk\n",
    "\n",
    "# Introduce outliers (randomly multiply some values by extreme factors)\n",
    "outlier_indices = np.random.choice(n, size=int(n * 0.03), replace=False)  # 3% of the data\n",
    "cycle_count[outlier_indices] = cycle_count[outlier_indices] * np.random.uniform(2, 5, size=len(outlier_indices))\n",
    "temperature[outlier_indices] = temperature[outlier_indices] * np.random.uniform(2, 3, size=len(outlier_indices))\n",
    "\n",
    "# Introduce some false correlations (swapping values between good and risk categories)\n",
    "false_relation_indices = np.random.choice(n, size=int(n * 0.1), replace=False)  # 10% of the data\n",
    "voltage[false_relation_indices] = np.where(battery_status[false_relation_indices] == 0, \n",
    "                                           np.random.uniform(2.5, 3.0, size=len(false_relation_indices)),  # Bad voltage for good\n",
    "                                           np.random.uniform(4.0, 4.5, size=len(false_relation_indices)))  # Good voltage for risk\n",
    "\n",
    "# Introduce missing values randomly (5% of data for each feature)\n",
    "missing_value_indices = np.random.choice(n, size=int(n * 0.05), replace=False)\n",
    "\n",
    "soc[missing_value_indices]=soc[missing_value_indices].astype('float')\n",
    "cycle_count[missing_value_indices]=cycle_count[missing_value_indices].astype('float')\n",
    "temperature[missing_value_indices]=temperature[missing_value_indices].astype('float')\n",
    "voltage[missing_value_indices]=voltage[missing_value_indices].astype('float')\n",
    "current[missing_value_indices]=current[missing_value_indices].astype('float')\n",
    "\n",
    "\n",
    "soc[missing_value_indices] = np.nan\n",
    "temperature[missing_value_indices] = np.nan\n",
    "voltage[missing_value_indices] = np.nan\n",
    "current[missing_value_indices] = np.nan\n",
    "\n",
    "# Health Status (0 = Good, 1 = Mid, 2 = Risk)\n",
    "\n",
    "\n",
    "\n",
    "# Create a DataFrame\n",
    "df = pd.DataFrame({\n",
    "    'State_of_Charge (%)': np.round(soc, 2),\n",
    "    'Cycle_Count': cycle_count,\n",
    "    'Temperature (°C)': np.round(temperature, 2),\n",
    "    'Voltage (V)': np.round(voltage, 2),\n",
    "    'Current (A)': np.round(current, 2),\n",
    "    'Health_Status':battery_status  # 0 = Good, 1 = Mid, 2 = Risk\n",
    "})\n",
    "\n",
    "df['Health_Status']=df['Health_Status'].map({0:\"good\",1:\"mid\",2:\"risk\"})\n",
    "\n",
    "# Save the dataset to a CSV file\n",
    "df.to_csv('ev_battery_data.csv', index=False)\n",
    "\n"
   ]
  },
  {
   "cell_type": "code",
   "execution_count": 12,
   "id": "d85335e1-439b-4c3f-b12f-5aa3be132cea",
   "metadata": {},
   "outputs": [
    {
     "data": {
      "text/html": [
       "<div>\n",
       "<style scoped>\n",
       "    .dataframe tbody tr th:only-of-type {\n",
       "        vertical-align: middle;\n",
       "    }\n",
       "\n",
       "    .dataframe tbody tr th {\n",
       "        vertical-align: top;\n",
       "    }\n",
       "\n",
       "    .dataframe thead th {\n",
       "        text-align: right;\n",
       "    }\n",
       "</style>\n",
       "<table border=\"1\" class=\"dataframe\">\n",
       "  <thead>\n",
       "    <tr style=\"text-align: right;\">\n",
       "      <th></th>\n",
       "      <th>State_of_Charge (%)</th>\n",
       "      <th>Cycle_Count</th>\n",
       "      <th>Temperature (°C)</th>\n",
       "      <th>Voltage (V)</th>\n",
       "      <th>Current (A)</th>\n",
       "      <th>Health_Status</th>\n",
       "    </tr>\n",
       "  </thead>\n",
       "  <tbody>\n",
       "    <tr>\n",
       "      <th>0</th>\n",
       "      <td>47.85</td>\n",
       "      <td>884</td>\n",
       "      <td>37.44</td>\n",
       "      <td>3.27</td>\n",
       "      <td>17.58</td>\n",
       "      <td>mid</td>\n",
       "    </tr>\n",
       "    <tr>\n",
       "      <th>1</th>\n",
       "      <td>33.90</td>\n",
       "      <td>1262</td>\n",
       "      <td>57.42</td>\n",
       "      <td>3.08</td>\n",
       "      <td>28.96</td>\n",
       "      <td>risk</td>\n",
       "    </tr>\n",
       "    <tr>\n",
       "      <th>2</th>\n",
       "      <td>17.51</td>\n",
       "      <td>1039</td>\n",
       "      <td>46.85</td>\n",
       "      <td>2.84</td>\n",
       "      <td>28.62</td>\n",
       "      <td>risk</td>\n",
       "    </tr>\n",
       "    <tr>\n",
       "      <th>3</th>\n",
       "      <td>47.49</td>\n",
       "      <td>699</td>\n",
       "      <td>33.46</td>\n",
       "      <td>3.34</td>\n",
       "      <td>10.72</td>\n",
       "      <td>mid</td>\n",
       "    </tr>\n",
       "    <tr>\n",
       "      <th>4</th>\n",
       "      <td>94.20</td>\n",
       "      <td>126</td>\n",
       "      <td>19.29</td>\n",
       "      <td>2.91</td>\n",
       "      <td>2.30</td>\n",
       "      <td>good</td>\n",
       "    </tr>\n",
       "  </tbody>\n",
       "</table>\n",
       "</div>"
      ],
      "text/plain": [
       "   State_of_Charge (%)  Cycle_Count  Temperature (°C)  Voltage (V)  \\\n",
       "0                47.85          884             37.44         3.27   \n",
       "1                33.90         1262             57.42         3.08   \n",
       "2                17.51         1039             46.85         2.84   \n",
       "3                47.49          699             33.46         3.34   \n",
       "4                94.20          126             19.29         2.91   \n",
       "\n",
       "   Current (A) Health_Status  \n",
       "0        17.58           mid  \n",
       "1        28.96          risk  \n",
       "2        28.62          risk  \n",
       "3        10.72           mid  \n",
       "4         2.30          good  "
      ]
     },
     "execution_count": 12,
     "metadata": {},
     "output_type": "execute_result"
    }
   ],
   "source": [
    "df.head()"
   ]
  },
  {
   "cell_type": "code",
   "execution_count": 13,
   "id": "b2a3975d-af04-4e4a-be63-d484aa1d645b",
   "metadata": {},
   "outputs": [
    {
     "data": {
      "text/plain": [
       "State_of_Charge (%)    50\n",
       "Cycle_Count             0\n",
       "Temperature (°C)       50\n",
       "Voltage (V)            50\n",
       "Current (A)            50\n",
       "Health_Status           0\n",
       "dtype: int64"
      ]
     },
     "execution_count": 13,
     "metadata": {},
     "output_type": "execute_result"
    }
   ],
   "source": [
    "df.isna().sum()"
   ]
  },
  {
   "cell_type": "code",
   "execution_count": 14,
   "id": "2b9c859e-911f-4719-8a28-8e33f6140b80",
   "metadata": {},
   "outputs": [
    {
     "data": {
      "text/plain": [
       "Health_Status\n",
       "good    365\n",
       "mid     347\n",
       "risk    288\n",
       "Name: count, dtype: int64"
      ]
     },
     "execution_count": 14,
     "metadata": {},
     "output_type": "execute_result"
    }
   ],
   "source": [
    "df['Health_Status'].value_counts()"
   ]
  },
  {
   "cell_type": "code",
   "execution_count": null,
   "id": "998eebe2-6f41-4ec8-8c7f-d4cbe33182eb",
   "metadata": {},
   "outputs": [],
   "source": []
  },
  {
   "cell_type": "code",
   "execution_count": null,
   "id": "8331b125-1b2d-4e81-9906-0f09844e86ea",
   "metadata": {},
   "outputs": [],
   "source": []
  }
 ],
 "metadata": {
  "kernelspec": {
   "display_name": "Python 3 (ipykernel)",
   "language": "python",
   "name": "python3"
  },
  "language_info": {
   "codemirror_mode": {
    "name": "ipython",
    "version": 3
   },
   "file_extension": ".py",
   "mimetype": "text/x-python",
   "name": "python",
   "nbconvert_exporter": "python",
   "pygments_lexer": "ipython3",
   "version": "3.12.3"
  }
 },
 "nbformat": 4,
 "nbformat_minor": 5
}
